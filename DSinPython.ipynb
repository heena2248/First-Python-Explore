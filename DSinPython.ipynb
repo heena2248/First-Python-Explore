{
  "nbformat": 4,
  "nbformat_minor": 0,
  "metadata": {
    "colab": {
      "provenance": [],
      "authorship_tag": "ABX9TyO+urFaKk2ZuFxtkd/fepKT",
      "include_colab_link": true
    },
    "kernelspec": {
      "name": "python3",
      "display_name": "Python 3"
    },
    "language_info": {
      "name": "python"
    }
  },
  "cells": [
    {
      "cell_type": "markdown",
      "metadata": {
        "id": "view-in-github",
        "colab_type": "text"
      },
      "source": [
        "<a href=\"https://colab.research.google.com/github/heena2248/First-Python-Explore/blob/master/DSinPython.ipynb\" target=\"_parent\"><img src=\"https://colab.research.google.com/assets/colab-badge.svg\" alt=\"Open In Colab\"/></a>"
      ]
    },
    {
      "cell_type": "code",
      "execution_count": null,
      "metadata": {
        "colab": {
          "base_uri": "https://localhost:8080/"
        },
        "id": "DNetNhOoUbrJ",
        "outputId": "5b277697-d868-4775-f113-3fcc6171d34e"
      },
      "outputs": [
        {
          "output_type": "stream",
          "name": "stdout",
          "text": [
            "Bow\n",
            "Spark\n",
            "Boo\n"
          ]
        }
      ],
      "source": [
        "#1. class\n",
        "class Dog:\n",
        "  def __init__(self,name,speakText):\n",
        "    self.name=name\n",
        "    self.speakText=speakText\n",
        "  def speak(self):\n",
        "    return(self.speakText)\n",
        "  def getname(self):\n",
        "    print(self.name)\n",
        "  def chngSpeak(self,bark):\n",
        "    self.speakText=bark\n",
        "if __name__ == \"__main__\":\n",
        "  dog1=Dog(\"Spark\",\"Bow\")\n",
        "  print(dog1.speak())\n",
        "  dog1.getname()\n",
        "  dog1.chngSpeak(\"Boo\")\n",
        "  print(dog1.speak())\n",
        "\n"
      ]
    },
    {
      "cell_type": "code",
      "source": [
        "#2. operator overloading\n",
        "class Dog:\n",
        "  def __init__(self,name,speakText):\n",
        "    self.name=name\n",
        "    self.speakText=speakText\n",
        "  def speak(self):\n",
        "    return(self.speakText)\n",
        "  def getname(self):\n",
        "    print(self.name)\n",
        "  def chngSpeak(self,bark):\n",
        "    self.speakText=bark\n",
        "  def __add__(self,otherDog):#overloads +\n",
        "    return Dog(self.name + \" and \" + otherDog.name,self.speakText + otherDog.speakText)\n",
        "if __name__ == \"__main__\":\n",
        "  dog1=Dog(\"Spark\",\"Bow\")\n",
        "  print(dog1.speak())\n",
        "  dog1.getname()\n",
        "  dog1.chngSpeak(\"Boo\")\n",
        "  print(dog1.speak())\n",
        "  dog2=Dog(\"Air\",\"Baa\")\n",
        "  dog3=dog1+dog2\n",
        "  print(dog3.speak())\n",
        "  dog3.getname()"
      ],
      "metadata": {
        "colab": {
          "base_uri": "https://localhost:8080/"
        },
        "id": "YNOJib76Vdbb",
        "outputId": "0080c9f4-ba0b-4776-d4dc-51791589f01d"
      },
      "execution_count": null,
      "outputs": [
        {
          "output_type": "stream",
          "name": "stdout",
          "text": [
            "Bow\n",
            "Spark\n",
            "Boo\n",
            "BooBaa\n",
            "Spark and Air\n"
          ]
        }
      ]
    },
    {
      "cell_type": "code",
      "source": [
        "#3. calculates the trail for converting one word to another, uses queue data structure\n",
        "class Stage:\n",
        "  def __init__(self,word,prior):\n",
        "    self.word=word\n",
        "    self.prior=prior\n",
        "  def collectTrail(self):\n",
        "    trail=[]\n",
        "    node=self\n",
        "    while node:\n",
        "      trail.insert(0,node.word)\n",
        "      node=node.prior\n",
        "    return trail"
      ],
      "metadata": {
        "id": "5tEnTt99Wdro"
      },
      "execution_count": 2,
      "outputs": []
    },
    {
      "cell_type": "code",
      "source": [
        "\n",
        "import enchant\n",
        "import string\n",
        "d=enchant.Dict(\"en_US\")\n",
        "def neighbors(word):\n",
        "    l=[]\n",
        "    for i in range(len(word)):\n",
        "      for j in string.ascii_lowercase:\n",
        "        if(word[i]!=j):\n",
        "          s=word.replace(word[i],j)\n",
        "          \n",
        "          if(d.check(s)):\n",
        "              l.append(s)\n",
        "    return l"
      ],
      "metadata": {
        "id": "YJFaENHhxCl3"
      },
      "execution_count": 3,
      "outputs": []
    },
    {
      "cell_type": "code",
      "source": [
        "from collections import deque\n",
        "def check():\n",
        "  start='mail'\n",
        "  end='sale'\n",
        "  active=deque()\n",
        "  active.append(Stage(start,None))\n",
        "  while active:\n",
        "    st=active.popleft()\n",
        "    for nxt in neighbors(st.word):\n",
        "      link=Stage(nxt,st)\n",
        "      if nxt==end:\n",
        "        active.append(link)\n",
        "        return( link.collectTrail())\n",
        "      active.append(link)\n",
        "  return(\"Not found\")\n",
        "\n",
        "print(check())"
      ],
      "metadata": {
        "colab": {
          "base_uri": "https://localhost:8080/"
        },
        "id": "R1o9DKjJv6OG",
        "outputId": "09bd84a2-a37f-4ec2-f462-fae963345fec"
      },
      "execution_count": 16,
      "outputs": [
        {
          "output_type": "stream",
          "name": "stdout",
          "text": [
            "['mail', 'marl', 'mare', 'male', 'sale']\n"
          ]
        }
      ]
    },
    {
      "cell_type": "code",
      "source": [
        "!pip install pyenchant"
      ],
      "metadata": {
        "colab": {
          "base_uri": "https://localhost:8080/"
        },
        "id": "rGfGCiEKmo_B",
        "outputId": "fa874b0f-89a2-4a43-8ed8-31c3deb07e02"
      },
      "execution_count": 1,
      "outputs": [
        {
          "output_type": "stream",
          "name": "stdout",
          "text": [
            "Looking in indexes: https://pypi.org/simple, https://us-python.pkg.dev/colab-wheels/public/simple/\n",
            "Requirement already satisfied: pyenchant in /usr/local/lib/python3.9/dist-packages (3.2.2)\n"
          ]
        }
      ]
    },
    {
      "cell_type": "code",
      "source": [],
      "metadata": {
        "id": "TJGnIWVQxWPM",
        "colab": {
          "base_uri": "https://localhost:8080/"
        },
        "outputId": "49c498e4-b5c3-4776-d376-bc70442c9f57"
      },
      "execution_count": 2,
      "outputs": [
        {
          "output_type": "stream",
          "name": "stdout",
          "text": [
            "['bold', 'fold', 'gold', 'hold', 'mold', 'sold', 'told', 'wold', 'coed', 'cord', 'cola', 'coll', 'cols', 'colt']\n"
          ]
        }
      ]
    }
  ]
}